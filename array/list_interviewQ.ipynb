{
 "cells": [
  {
   "cell_type": "code",
   "execution_count": 3,
   "metadata": {},
   "outputs": [
    {
     "name": "stdout",
     "output_type": "stream",
     "text": [
      "average=11.0\n"
     ]
    }
   ],
   "source": [
    "numdays=int(input(\"how many temperature how want to calculate\"))\n",
    "total=0\n",
    "for i in range (1,numdays+1):\n",
    "    nextday=int(input(\"day\"+str(i)+\"'s high temp:\"))\n",
    "    total+=nextday\n",
    "avg=round(total/numdays,2)\n",
    "print(\"average=\"+str(avg))\n"
   ]
  },
  {
   "cell_type": "code",
   "execution_count": 1,
   "metadata": {},
   "outputs": [
    {
     "name": "stdout",
     "output_type": "stream",
     "text": [
      "average=13.0\n",
      "1days above average\n"
     ]
    }
   ],
   "source": [
    "numdays=int(input(\"how many temperature how want to calculate\"))\n",
    "total=0\n",
    "temp=[]\n",
    "for i in range (numdays):\n",
    "    nextday=int(input(\"day\"+str(i)+\"'s high temp:\"))\n",
    "    temp.append(nextday)\n",
    "    total+=temp[i]\n",
    "avg=round(total/numdays,2)\n",
    "print(\"average=\"+str(avg))\n",
    "above=0\n",
    "for i in temp: \n",
    "    if i>avg:\n",
    "        above+=1\n",
    "print(str(above)+\"days above average\")\n"
   ]
  },
  {
   "cell_type": "code",
   "execution_count": 8,
   "metadata": {},
   "outputs": [
    {
     "name": "stdout",
     "output_type": "stream",
     "text": [
      "5\n"
     ]
    }
   ],
   "source": [
    "def missing(arr,n):\n",
    "    expected_sum=n*(n+1)//2\n",
    "    actual_sum=sum(arr)\n",
    "    missing=expected_sum-actual_sum\n",
    "    return missing \n",
    "res=missing([1,2,3,4,6],6)\n",
    "print(res)\n",
    "#missing number in the list"
   ]
  },
  {
   "cell_type": "code",
   "execution_count": 9,
   "metadata": {},
   "outputs": [
    {
     "name": "stdout",
     "output_type": "stream",
     "text": [
      "pairs are : 2 7\n",
      "None\n"
     ]
    }
   ],
   "source": [
    "#find all pairs of integers whose sum is equal to given number\n",
    "arr=[2,7,11,15]\n",
    "target=9\n",
    "def find_pairs(arr,target):\n",
    "    for i in range(len(arr)):\n",
    "        for j in range(i+1,len(arr)):\n",
    "            if arr[i]==arr[j]:\n",
    "                continue\n",
    "            elif arr[i]+arr[j]==target:\n",
    "                print(\"pairs are :\",arr[i],arr[j])\n",
    "res=find_pairs(arr,target)\n",
    "print(res)\n",
    "            \n",
    "            \n",
    "\n",
    "        "
   ]
  },
  {
   "cell_type": "code",
   "execution_count": 19,
   "metadata": {},
   "outputs": [
    {
     "name": "stdout",
     "output_type": "stream",
     "text": [
      "element present at index 7\n"
     ]
    }
   ],
   "source": [
    "#chk if an array contains a number\n",
    "import numpy as np \n",
    "myarr=np.array([1,2,3,13,16,17,19,21])\n",
    "def findnumber(arr,num):\n",
    "    for i in range(len(arr)):\n",
    "        if num == arr[i]:\n",
    "            print(\"element present at index\",i)\n",
    "        \n",
    "            \n",
    "findnumber(myarr,21)"
   ]
  },
  {
   "cell_type": "code",
   "execution_count": 48,
   "metadata": {},
   "outputs": [
    {
     "data": {
      "text/plain": [
       "399"
      ]
     },
     "execution_count": 48,
     "metadata": {},
     "output_type": "execute_result"
    }
   ],
   "source": [
    "#chk max product of 2 integers\n",
    "myarr=[1,2,3,13,16,17,19,21]\n",
    "\n",
    "def maxproduct(arr):\n",
    "    if len(arr)<2:\n",
    "        return None\n",
    "    max_prod=float('-inf')\n",
    "    for i in range(len(arr)):\n",
    "        for j in range(i+1,len(arr)):\n",
    "            product=arr[i]*arr[j]\n",
    "            max_prod=max(max_prod,product)\n",
    "    return max_prod\n",
    "maxproduct(myarr)"
   ]
  },
  {
   "cell_type": "code",
   "execution_count": null,
   "metadata": {},
   "outputs": [],
   "source": []
  }
 ],
 "metadata": {
  "kernelspec": {
   "display_name": "Python 3",
   "language": "python",
   "name": "python3"
  },
  "language_info": {
   "codemirror_mode": {
    "name": "ipython",
    "version": 3
   },
   "file_extension": ".py",
   "mimetype": "text/x-python",
   "name": "python",
   "nbconvert_exporter": "python",
   "pygments_lexer": "ipython3",
   "version": "3.9.6"
  }
 },
 "nbformat": 4,
 "nbformat_minor": 2
}
